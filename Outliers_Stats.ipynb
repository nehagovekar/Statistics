{
 "cells": [
  {
   "cell_type": "code",
   "execution_count": 2,
   "id": "917b1a47",
   "metadata": {},
   "outputs": [],
   "source": [
    "import numpy as np\n",
    "import matplotlib.pyplot as pyplot\n",
    "%matplotlib inline"
   ]
  },
  {
   "cell_type": "code",
   "execution_count": 12,
   "id": "d6789b34",
   "metadata": {},
   "outputs": [],
   "source": [
    "## Define our Dataset\n",
    "dataset=[11, 10, 9, 55, 35, 20, 22, 32, 23,22,14,16,17,16,25,31, 100]"
   ]
  },
  {
   "cell_type": "markdown",
   "id": "4c253203",
   "metadata": {},
   "source": [
    "- after third standard deviation data present can be an outlier"
   ]
  },
  {
   "cell_type": "markdown",
   "id": "cd681b85",
   "metadata": {},
   "source": [
    "# Z- Score"
   ]
  },
  {
   "cell_type": "code",
   "execution_count": 15,
   "id": "3007540d",
   "metadata": {},
   "outputs": [],
   "source": [
    "#Z score\n",
    "outliers=[]\n",
    "\n",
    "def detect_outliers(data):\n",
    "    #implement z-score formula\n",
    "    threshold = 3\n",
    "    mean=np.mean(data)\n",
    "    std=np.std(data)\n",
    "    \n",
    "    for i in data:\n",
    "        z_score = (i-mean)/std\n",
    "        if np.abs(z_score) > threshold:\n",
    "            outliers.append(i)\n",
    "    return outliers"
   ]
  },
  {
   "cell_type": "code",
   "execution_count": 14,
   "id": "d3bfd016",
   "metadata": {},
   "outputs": [
    {
     "data": {
      "text/plain": [
       "[100]"
      ]
     },
     "execution_count": 14,
     "metadata": {},
     "output_type": "execute_result"
    }
   ],
   "source": [
    "detect_outliers(dataset)"
   ]
  },
  {
   "cell_type": "markdown",
   "id": "2a3ba506",
   "metadata": {},
   "source": [
    "# IQR"
   ]
  },
  {
   "cell_type": "markdown",
   "id": "c12c0720",
   "metadata": {},
   "source": [
    "1. Sort the data\n",
    "2. Calculate Q1 and Q3\n",
    "3. IQR (Q3-Q1)\n",
    "4. Find the lower fence (q1-1.5(iqr))\n",
    "5.Find the upper fence (q3+1.5(iqr))"
   ]
  },
  {
   "cell_type": "code",
   "execution_count": 17,
   "id": "9c848841",
   "metadata": {},
   "outputs": [
    {
     "data": {
      "text/plain": [
       "[9, 10, 11, 14, 16, 16, 17, 20, 22, 22, 23, 25, 31, 32, 35, 55, 100]"
      ]
     },
     "execution_count": 17,
     "metadata": {},
     "output_type": "execute_result"
    }
   ],
   "source": [
    "dataset=sorted(dataset)\n",
    "dataset"
   ]
  },
  {
   "cell_type": "code",
   "execution_count": 19,
   "id": "67c36c9b",
   "metadata": {},
   "outputs": [],
   "source": [
    "q1,q3= np.percentile(dataset,[25,75])"
   ]
  },
  {
   "cell_type": "code",
   "execution_count": 20,
   "id": "d54f9969",
   "metadata": {},
   "outputs": [
    {
     "name": "stdout",
     "output_type": "stream",
     "text": [
      "16.0 31.0\n"
     ]
    }
   ],
   "source": [
    "print(q1,q3)"
   ]
  },
  {
   "cell_type": "code",
   "execution_count": 22,
   "id": "928e2a46",
   "metadata": {},
   "outputs": [
    {
     "data": {
      "text/plain": [
       "15.0"
      ]
     },
     "execution_count": 22,
     "metadata": {},
     "output_type": "execute_result"
    }
   ],
   "source": [
    "iqr=q3-q1\n",
    "iqr"
   ]
  },
  {
   "cell_type": "code",
   "execution_count": 23,
   "id": "153548e9",
   "metadata": {},
   "outputs": [],
   "source": [
    "#find lower fence and upper fence\n",
    "lower_fence = q1 -(1.5*iqr)\n",
    "higher_fence = q3+(1.5*iqr)"
   ]
  },
  {
   "cell_type": "code",
   "execution_count": 24,
   "id": "8551f69e",
   "metadata": {},
   "outputs": [
    {
     "name": "stdout",
     "output_type": "stream",
     "text": [
      "-6.5 53.5\n"
     ]
    }
   ],
   "source": [
    "print(lower_fence, higher_fence)"
   ]
  },
  {
   "cell_type": "code",
   "execution_count": 25,
   "id": "ede4d807",
   "metadata": {},
   "outputs": [],
   "source": [
    "import seaborn as sns"
   ]
  },
  {
   "cell_type": "code",
   "execution_count": 26,
   "id": "23792547",
   "metadata": {},
   "outputs": [
    {
     "data": {
      "text/plain": [
       "<Axes: >"
      ]
     },
     "execution_count": 26,
     "metadata": {},
     "output_type": "execute_result"
    },
    {
     "data": {
      "image/png": "[encoded data removed]",
      "text/plain": [
       "<Figure size 640x480 with 1 Axes>"
      ]
     },
     "metadata": {},
     "output_type": "display_data"
    }
   ],
   "source": [
    "sns.boxplot(dataset)"
   ]
  },
  {
   "cell_type": "code",
   "execution_count": 27,
   "id": "d59712ba",
   "metadata": {},
   "outputs": [
    {
     "data": {
      "text/plain": [
       "[9, 10, 11, 14, 16, 16, 17, 20, 22, 22, 23, 25, 31, 32, 35]"
      ]
     },
     "execution_count": 27,
     "metadata": {},
     "output_type": "execute_result"
    }
   ],
   "source": [
    "filtered_dataset = [i for i in dataset if not (i < -6.5 or i > 53.5)]\n",
    "filtered_dataset"
   ]
  },
  {
   "cell_type": "code",
   "execution_count": 28,
   "id": "fc2847f5",
   "metadata": {},
   "outputs": [
    {
     "data": {
      "text/plain": [
       "<Axes: >"
      ]
     },
     "execution_count": 28,
     "metadata": {},
     "output_type": "execute_result"
    },
    {
     "data": {
      "image/png": "[encoded data removed]",
      "text/plain": [
       "<Figure size 640x480 with 1 Axes>"
      ]
     },
     "metadata": {},
     "output_type": "display_data"
    }
   ],
   "source": [
    "sns.boxplot(filtered_dataset)"
   ]
  },
  {
   "cell_type": "code",
   "execution_count": null,
   "id": "a4d55f19",
   "metadata": {},
   "outputs": [],
   "source": []
  }
 ],
 "metadata": {
  "kernelspec": {
   "display_name": "Python 3 (ipykernel)",
   "language": "python",
   "name": "python3"
  },
  "language_info": {
   "codemirror_mode": {
    "name": "ipython",
    "version": 3
   },
   "file_extension": ".py",
   "mimetype": "text/x-python",
   "name": "python",
   "nbconvert_exporter": "python",
   "pygments_lexer": "ipython3",
   "version": "3.11.4"
  }
 },
 "nbformat": 4,
 "nbformat_minor": 5
}
